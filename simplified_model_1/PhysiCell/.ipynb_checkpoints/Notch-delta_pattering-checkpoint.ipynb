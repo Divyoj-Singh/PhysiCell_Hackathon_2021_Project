{
 "cells": [
  {
   "cell_type": "markdown",
   "id": "57bf8d94",
   "metadata": {
    "id": "57bf8d94"
   },
   "source": [
    "### Code for plotting different quantities for Notch-delta system:"
   ]
  },
  {
   "cell_type": "markdown",
   "id": "47b4b262",
   "metadata": {
    "id": "47b4b262"
   },
   "source": [
    "### Import the libraries"
   ]
  },
  {
   "cell_type": "code",
   "execution_count": null,
   "id": "2eac72a9",
   "metadata": {
    "id": "2eac72a9"
   },
   "outputs": [],
   "source": [
    "from pyMCDS import pyMCDS\n",
    "import numpy as np\n",
    "import matplotlib.pyplot as plt"
   ]
  },
  {
   "cell_type": "markdown",
   "id": "aaa57822",
   "metadata": {
    "id": "aaa57822"
   },
   "source": [
    "### Reading the files and retrieving the data"
   ]
  },
  {
   "cell_type": "code",
   "execution_count": null,
   "id": "46f66ef0",
   "metadata": {
    "id": "46f66ef0",
    "outputId": "4bccb0b8-b4a3-42e0-acd2-b268e0c357e3"
   },
   "outputs": [
    {
     "name": "stdout",
     "output_type": "stream",
     "text": [
      "Files present in the folder\n",
      "./output/PhysiCell_settings.xml\n",
      "./output/final.xml\n",
      "./output/initial.xml\n",
      "./output/output00000000.xml\n",
      "./output/output00000001.xml\n",
      "./output/output00000002.xml\n",
      "./output/output00000003.xml\n",
      "./output/output00000004.xml\n",
      "./output/output00000005.xml\n",
      "./output/output00000006.xml\n",
      "reading one of the files\n",
      "Reading output\\output00000006.xml\n",
      "Reading output\\initial_mesh0.mat\n",
      "Reading output\\output00000006_microenvironment0.mat\n",
      "Parsing oxygen data\n",
      "Reading output\\output00000006_cells_physicell.mat\n"
     ]
    }
   ],
   "source": [
    "folder=\"./../plots_NDJ\"\n",
    "print(\"Files present in the folder\")\n",
    "!ls ./output/*.xml \n",
    "print(\"reading one of the files\")\n",
    "mcds = pyMCDS('output00000006.xml', 'output')"
   ]
  },
  {
   "cell_type": "code",
   "execution_count": null,
   "id": "04532cf9",
   "metadata": {
    "id": "04532cf9",
    "outputId": "794d9277-f289-4bd0-9e0c-9039a9ec9cb7"
   },
   "outputs": [
    {
     "name": "stdout",
     "output_type": "stream",
     "text": [
      "2160.0\n",
      "['ID', 'position_x', 'position_y', 'position_z', 'total_volume', 'cell_type', 'cycle_model', 'current_phase', 'elapsed_time_in_phase', 'nuclear_volume', 'cytoplasmic_volume', 'fluid_fraction', 'calcified_fraction', 'orientation_x', 'orientation_y', 'orientation_z', 'polarity', 'migration_speed', 'motility_vector_x', 'motility_vector_y', 'motility_vector_z', 'migration_bias', 'motility_bias_direction_x', 'motility_bias_direction_y', 'motility_bias_direction_z', 'persistence_time', 'motility_reserved', 'oncoprotein']\n",
      "['oxygen']\n"
     ]
    }
   ],
   "source": [
    "print(mcds.get_time())  # what simulation time is saved here? \n",
    "print(mcds.get_cell_variables()) # what data are saved in the cells? \n",
    "print(mcds.get_substrate_names())  # what diffusing substrates? "
   ]
  },
  {
   "cell_type": "code",
   "execution_count": null,
   "id": "bfb06db4",
   "metadata": {
    "id": "bfb06db4",
    "outputId": "42904364-c657-48fd-c7f6-3fe0210f7004"
   },
   "outputs": [
    {
     "data": {
      "text/plain": [
       "dict_keys(['metadata', 'mesh', 'continuum_variables', 'discrete_cells'])"
      ]
     },
     "execution_count": 9,
     "metadata": {
      "tags": []
     },
     "output_type": "execute_result"
    }
   ],
   "source": [
    "mcds.data.keys()"
   ]
  },
  {
   "cell_type": "markdown",
   "id": "09516d65",
   "metadata": {
    "id": "09516d65"
   },
   "source": [
    "### Plotting the histograms for the spcecies:"
   ]
  },
  {
   "cell_type": "code",
   "execution_count": null,
   "id": "2824c6fb",
   "metadata": {
    "id": "2824c6fb",
    "outputId": "7ae71d82-2330-45b1-aa7d-aac8e6caaa92"
   },
   "outputs": [
    {
     "data": {
      "text/plain": [
       "4.415161946903325"
      ]
     },
     "execution_count": 11,
     "metadata": {
      "tags": []
     },
     "output_type": "execute_result"
    }
   ],
   "source": [
    "#np.mean( mcds.data['discrete_cells']['oncoprotein'] )\n",
    "import matplotlib.pyplot as plt\n",
    "\n",
    "Notch = mcds.data['discrete_cells']['notch']\n",
    "Delta = mcds.data['discrete_cells']['Delta']\n",
    "Jagged = mcds.data['discrete_cells']['Jagged']\n",
    "NICD = mcds.data['discrete_cells']['NICD']\n",
    "\n",
    "print (\"mean Notch values\", mean(Notch))\n",
    "print (\"mean Delta values\", mean(Delta))\n",
    "print (\"mean Jagged values\", mean(Jagged))\n",
    "print (\"mean NICD values\", mean(NICD))"
   ]
  },
  {
   "cell_type": "code",
   "execution_count": null,
   "id": "53f23948",
   "metadata": {
    "id": "53f23948"
   },
   "outputs": [],
   "source": [
    "## Histograms\n",
    "fig, axs = plt.subplots(2,2,figsize=(8,8))        \n",
    "axs[0,0].hist(Notch);\n",
    "axs[0,0].set_title('Notch');\n",
    "axs[0,1].hist(Delta);\n",
    "axs[0,1].set_title('Delta');\n",
    "axs[1,0].hist(Jagged);\n",
    "axs[1,0].set_title('Jagged');\n",
    "axs[1,1].hist(NICD);\n",
    "axs[1,1].set_title('NICD');\n",
    "\n",
    "fig.suptitle(\"histogram at\" str(mcds.get_time()))\n",
    "fig.subplots_adjust(hspace=0.5,wspace=0.5)#top=0.90, bottom=0.10, left=0.15, right=0.95, \n",
    "fig.savefig(folder+\"histogram at\"+str(mcds.get_time())+\".png\")    \n",
    "#plt.close()"
   ]
  },
  {
   "cell_type": "markdown",
   "id": "8c44f028",
   "metadata": {
    "id": "8c44f028"
   },
   "source": [
    "### Scatter Graphs"
   ]
  },
  {
   "cell_type": "code",
   "execution_count": null,
   "id": "16c22285",
   "metadata": {
    "id": "16c22285"
   },
   "outputs": [],
   "source": [
    "cx = mcds.data['discrete_cells']['position_x']\n",
    "cy = mcds.data['discrete_cells']['position_y']"
   ]
  },
  {
   "cell_type": "code",
   "execution_count": null,
   "id": "98986162",
   "metadata": {
    "id": "98986162"
   },
   "outputs": [],
   "source": [
    "## Scatter plot:\n",
    "fig, axs = plt.subplots(2,2,figsize=(8,8))        \n",
    "\n",
    "sc=axs[0,0].scatter(cx,cy,c=Notch);\n",
    "axs[0,0].set(xlabel ='X-Axis', ylabel ='Y-Axis', xlim =-250, 250, ylim =-250, 250,title =\"Notch\")\n",
    "f.colorbar(sc,ax=axs[0,0])\n",
    "\n",
    "sc=axs[0,1].scatter(cx,cy,c=Delta);\n",
    "axs[0,1].set(xlabel ='X-Axis', ylabel ='Y-Axis', xlim =-250, 250, ylim =-250, 250,title =\"Delta\")\n",
    "f.colorbar(sc,ax=axs[0,1])\n",
    "\n",
    "sc=axs[1.0].scatter(cx,cy,c=Jagged);\n",
    "axs[1,0].set(xlabel ='X-Axis', ylabel ='Y-Axis', xlim =-250, 250, ylim =-250, 250,title =\"Jagged\")\n",
    "f.colorbar(sc,ax=axs[1,0])\n",
    "\n",
    "sc=axs[1,1].scatter(cx,cy,c=NICD);\n",
    "axs[1,1].set(xlabel ='X-Axis', ylabel ='Y-Axis', xlim =-250, 250, ylim =-250, 250,title =\"NICD\")\n",
    "f.colorbar(sc,ax=axs[1,1])\n",
    "\n",
    "\n",
    "#plt.axis([-250,250,-250,250])\n",
    "fig.suptitle(\"scatter plot at\" str(mcds.get_time()))\n",
    "fig.subplots_adjust(hspace=0.5,wspace=0.5) #top=0.90, bottom=0.10, left=0.15, right=0.95, \n",
    "fig.savefig(folder+\"scatter plot at\"+str(mcds.get_time())+\".png\")    \n",
    "#plt.close()"
   ]
  },
  {
   "cell_type": "markdown",
   "id": "d4dad6da",
   "metadata": {
    "id": "d4dad6da"
   },
   "source": [
    "### Changes over time:"
   ]
  },
  {
   "cell_type": "code",
   "execution_count": null,
   "id": "7a0755cd",
   "metadata": {
    "id": "7a0755cd"
   },
   "outputs": [],
   "source": [
    "# Let's get live and dead cell counts, mean p (in live cells). We need to loop overall simulation times \n",
    "\n",
    "last_index = 6;\n",
    "\n",
    "notch = np.zeros( last_index+1 ); delta = np.zeros( last_index+1 );\n",
    "jagged = np.zeros( last_index+1 );nicd = np.zeros( last_index+1 ); \n",
    "times = np.zeros( last_index+1 ); \n",
    "\n",
    "for n in range( 0,last_index+1 ):\n",
    "\tfilename='output'+\"%08i\"%n+'.xml'\n",
    "\tmcds=pyMCDS(filename,'output')\n",
    "\ttimes[n]= mcds.get_time()\n",
    "\n",
    "    n  = mcds.data['discrete_cells']['notch']\n",
    "\td  = mcds.data['discrete_cells']['delta']\n",
    "\tj = mcds.data['discrete_cells']['jagged']\n",
    "\ti   = mcds.data['discrete_cells']['nicd']\n",
    "\t\n",
    "    notch[n] = np.mean(n);\n",
    "    delta[n] = np.std(d)\n"
   ]
  },
  {
   "cell_type": "code",
   "execution_count": null,
   "id": "a7dc5565",
   "metadata": {
    "id": "a7dc5565"
   },
   "outputs": [],
   "source": [
    "plt.clf()\n",
    "plt.plot( times, notch , 'r-o' )\n",
    "plt.plot( times, delta , 'b-o' ); \n",
    "plt.legend( {'notch', 'delta' } ) "
   ]
  }
 ],
 "metadata": {
  "colab": {
   "name": "Notch-delta_pattering.ipynb",
   "provenance": []
  },
  "kernelspec": {
   "display_name": "Python 3",
   "language": "python",
   "name": "python3"
  },
  "language_info": {
   "codemirror_mode": {
    "name": "ipython",
    "version": 3
   },
   "file_extension": ".py",
   "mimetype": "text/x-python",
   "name": "python",
   "nbconvert_exporter": "python",
   "pygments_lexer": "ipython3",
   "version": "3.8.8"
  }
 },
 "nbformat": 4,
 "nbformat_minor": 5
}
